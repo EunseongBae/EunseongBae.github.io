{
 "cells": [
  {
   "cell_type": "code",
   "execution_count": 5,
   "id": "244009c0",
   "metadata": {},
   "outputs": [],
   "source": [
    "import re\n",
    "import os\n",
    "from pathlib import Path\n",
    "import shutil"
   ]
  },
  {
   "cell_type": "code",
   "execution_count": 6,
   "id": "b635ca09",
   "metadata": {},
   "outputs": [
    {
     "ename": "UnicodeDecodeError",
     "evalue": "'charmap' codec can't decode byte 0x9d in position 107: character maps to <undefined>",
     "output_type": "error",
     "traceback": [
      "\u001b[1;31m---------------------------------------------------------------------------\u001b[0m",
      "\u001b[1;31mUnicodeDecodeError\u001b[0m                        Traceback (most recent call last)",
      "Cell \u001b[1;32mIn[6], line 5\u001b[0m\n\u001b[0;32m      3\u001b[0m \u001b[38;5;66;03m# cv_path = str(Path(os.getcwd()).parents[0]) # cv_path = 'D:/OneDrive - University of California, Davis/43_github/EunseongBae.github.io/cv.md'\u001b[39;00m\n\u001b[0;32m      4\u001b[0m cv_raw \u001b[38;5;241m=\u001b[39m \u001b[38;5;28mopen\u001b[39m(cv_file, \u001b[38;5;124m'\u001b[39m\u001b[38;5;124mr\u001b[39m\u001b[38;5;124m'\u001b[39m)\n\u001b[1;32m----> 5\u001b[0m cv_lines \u001b[38;5;241m=\u001b[39m \u001b[43mcv_raw\u001b[49m\u001b[38;5;241;43m.\u001b[39;49m\u001b[43mreadlines\u001b[49m\u001b[43m(\u001b[49m\u001b[43m)\u001b[49m\n\u001b[0;32m      6\u001b[0m cv_raw\u001b[38;5;241m.\u001b[39mclose()\n",
      "File \u001b[1;32mc:\\Users\\psyzz\\AppData\\Local\\Programs\\Python\\Python313\\Lib\\encodings\\cp1252.py:23\u001b[0m, in \u001b[0;36mIncrementalDecoder.decode\u001b[1;34m(self, input, final)\u001b[0m\n\u001b[0;32m     22\u001b[0m \u001b[38;5;28;01mdef\u001b[39;00m \u001b[38;5;21mdecode\u001b[39m(\u001b[38;5;28mself\u001b[39m, \u001b[38;5;28minput\u001b[39m, final\u001b[38;5;241m=\u001b[39m\u001b[38;5;28;01mFalse\u001b[39;00m):\n\u001b[1;32m---> 23\u001b[0m     \u001b[38;5;28;01mreturn\u001b[39;00m \u001b[43mcodecs\u001b[49m\u001b[38;5;241;43m.\u001b[39;49m\u001b[43mcharmap_decode\u001b[49m\u001b[43m(\u001b[49m\u001b[38;5;28;43minput\u001b[39;49m\u001b[43m,\u001b[49m\u001b[38;5;28;43mself\u001b[39;49m\u001b[38;5;241;43m.\u001b[39;49m\u001b[43merrors\u001b[49m\u001b[43m,\u001b[49m\u001b[43mdecoding_table\u001b[49m\u001b[43m)\u001b[49m[\u001b[38;5;241m0\u001b[39m]\n",
      "\u001b[1;31mUnicodeDecodeError\u001b[0m: 'charmap' codec can't decode byte 0x9d in position 107: character maps to <undefined>"
     ]
    }
   ],
   "source": [
    "cv_path = str(Path(os.getcwd()).parents[0])\n",
    "cv_file = cv_path + '/cv.md'\n",
    "# cv_path = str(Path(os.getcwd()).parents[0]) # cv_path = 'D:/OneDrive - University of California, Davis/43_github/EunseongBae.github.io/cv.md'\n",
    "cv_raw = open(cv_file, 'r')\n",
    "cv_lines = cv_raw.readlines()\n",
    "cv_raw.close()"
   ]
  },
  {
   "cell_type": "code",
   "execution_count": 15,
   "id": "a4a12d40",
   "metadata": {},
   "outputs": [],
   "source": [
    "cv_crit1 = {'author','position','affiliation1','affiliation2','date'}\n",
    "cv_crit2 = {'email','homepage'}\n",
    "\n",
    "count = 0\n",
    "cv_sep = 0\n",
    "cv_info = {}\n",
    "\n",
    "# cv_info3 = {'education', 'work experience', 'teaching experience', 'publications'}\n",
    "\n",
    "for line in cv_lines:\n",
    "    count += 1\n",
    "    if line == '---\\n' :\n",
    "        cv_sep += 1\n",
    "        continue\n",
    "    \n",
    "    if (cv_sep == 1) & (':' in line) :\n",
    "        a = line.split(':')[0]\n",
    "        if a in cv_crit1:\n",
    "            cv_info[a] = line.split(':')[1].strip()\n",
    "        elif a in cv_crit2:\n",
    "            cv_info[a] = cv_lines[count+1].split(':')[1].strip()\n",
    "    \n",
    "    if cv_sep == 2:\n",
    "        break        \n",
    "\n",
    "res1 = open('cv_latex1.txt', 'w')\n",
    "\n",
    "res1.write( '\\\\begin{center} \\n{\\Huge\\n'\n",
    "    + cv_info['author'] \n",
    "    + '} \\\\\\[1em] \\n'\n",
    "    + cv_info['position'] +', '\n",
    "    + cv_info['affiliation1'] + ' \\\\\\ \\n'\n",
    "    + cv_info['affiliation2'] + ' \\\\\\ \\n'\n",
    "    + '\\href{mailto:'+ cv_info['email']+'}{' + cv_info['email'] +'} \\quad \\n'\n",
    "    + '\\href{https://'+ cv_info['homepage']+'}{' + cv_info['homepage'] +'} \\quad \\n'\n",
    "    + 'Updated: '+ cv_info['date']\n",
    "    + '\\n\\\\end{center}' + '\\n \\\\vspace{1em} \\n'\n",
    "    + '%'*20)\n",
    "\n",
    "res1.close()"
   ]
  },
  {
   "cell_type": "code",
   "execution_count": 16,
   "id": "70b2ce05",
   "metadata": {},
   "outputs": [],
   "source": [
    "def check_space(string):\n",
    "    count = 0\n",
    "    for i in range(0, len(string)):\n",
    "        if string[i] == ' ' :\n",
    "            count += 1\n",
    "        else :\n",
    "            return(count)\n",
    "\n",
    "cv_info2 = {}\n",
    "count = 0\n",
    "\n",
    "for line in cv_lines[count:] :\n",
    "    if len(line.strip()) > 0  :\n",
    "        if line[:2] == \"##\" :\n",
    "            temp_name = line[2:].strip()\n",
    "            cv_info2[temp_name] = []\n",
    "            count += 1\n",
    "            continue\n",
    "        if count !=0 :\n",
    "            x = re.split('<[^>]+>', line)\n",
    "            if len(x) > 1 :\n",
    "                line = x[0]+'\\href{'+x[1]+'}{'+x[1]+'}'\n",
    "            line = line.replace('\\n','')\n",
    "            line = line.replace('&','\\&')\n",
    "            line = re.sub('<[^>]+>', '', line)\n",
    "            cv_info2[temp_name].append(line)\n",
    "\n",
    "res2 = open('cv_latex2.txt', 'w')\n",
    "res2.write('\\n')\n",
    "\n",
    "for tag in cv_info2 :\n",
    "    # if tag in {'Education','Work Experience','Publications'} :\n",
    "    #     continue\n",
    "\n",
    "    res2.write('{\\Large '+tag+'}'+'\\n\\n')\n",
    "    res2.write(\"\\\\begin{itemize} \\n \")\n",
    "\n",
    "    num_space_old = 0\n",
    "    num_space = 0\n",
    "    for x in cv_info2[tag] :\n",
    "        num_space = check_space(x) // 2\n",
    "        y = x[(num_space+2):]\n",
    "        if num_space > num_space_old :\n",
    "            res2.write(\"\\t\"*(num_space) + \"\\\\begin{itemize}[leftmargin=1.5em] \\n\")\n",
    "            res2.write(\"\\t\"*(num_space+1) +\"\\item \" + y + \"\\n\")\n",
    "        elif num_space == num_space_old :\n",
    "            res2.write(\"\\t\"*(num_space+1) +\"\\item \" + y + \"\\n\")\n",
    "        else :\n",
    "            res2.write(\"\\t\"*(num_space+1) + \"\\\\end{itemize} \\n\")\n",
    "            res2.write(\"\\t\"*(num_space+1) +\"\\item \"+ y + \"\\n\")\n",
    "        num_space_old = num_space\n",
    "    res2.write('\\\\end{itemize} \\n' * (num_space+1))\n",
    "    res2.write('\\n')\n",
    "\n",
    "res2.write('\\\\end{document}')\n",
    "res2.close()"
   ]
  },
  {
   "cell_type": "code",
   "execution_count": 17,
   "id": "7caad8d5",
   "metadata": {},
   "outputs": [],
   "source": [
    "filenames = ['cv_latex0.txt', 'cv_latex1.txt', 'cv_latex2.txt']\n",
    "with open('cv_latex.tex', 'w') as outfile:\n",
    "    for fname in filenames:\n",
    "        with open(fname) as infile:\n",
    "            outfile.write(infile.read())\n",
    "outfile.close()"
   ]
  },
  {
   "cell_type": "code",
   "execution_count": 18,
   "id": "873bb774",
   "metadata": {},
   "outputs": [
    {
     "data": {
      "text/plain": [
       "0"
      ]
     },
     "execution_count": 18,
     "metadata": {},
     "output_type": "execute_result"
    }
   ],
   "source": [
    "cmd = 'pdflatex -synctex=1 -interaction=nonstopmode --shell-escape \"cv_latex\".tex'\n",
    "os.system(cmd)"
   ]
  },
  {
   "cell_type": "code",
   "execution_count": 19,
   "id": "e7b3f104",
   "metadata": {},
   "outputs": [
    {
     "data": {
      "text/plain": [
       "'d:\\\\OneDrive - University of California, Davis\\\\43_github\\\\EunseongBae.github.io\\\\downloads\\\\CV_Eunseong Bae.pdf'"
      ]
     },
     "execution_count": 19,
     "metadata": {},
     "output_type": "execute_result"
    }
   ],
   "source": [
    "src_path = cv_path + '\\cv_pdf\\cv_latex.pdf'\n",
    "dst_path = cv_path + '\\downloads\\CV_' + cv_info['author'] + '.pdf'\n",
    "shutil.copy(src_path, dst_path)"
   ]
  }
 ],
 "metadata": {
  "kernelspec": {
   "display_name": "Python 3",
   "language": "python",
   "name": "python3"
  },
  "language_info": {
   "codemirror_mode": {
    "name": "ipython",
    "version": 3
   },
   "file_extension": ".py",
   "mimetype": "text/x-python",
   "name": "python",
   "nbconvert_exporter": "python",
   "pygments_lexer": "ipython3",
   "version": "3.13.0"
  },
  "vscode": {
   "interpreter": {
    "hash": "1ec10a23a3a4fefd505a0f971e4cc2ac5179a501e01e9c8283ec049af2ec4ecc"
   }
  }
 },
 "nbformat": 4,
 "nbformat_minor": 5
}
